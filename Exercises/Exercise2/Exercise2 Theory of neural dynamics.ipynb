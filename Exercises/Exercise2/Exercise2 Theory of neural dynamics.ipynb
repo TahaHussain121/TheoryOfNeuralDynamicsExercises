{
 "cells": [
  {
   "cell_type": "code",
   "execution_count": 29,
   "id": "af3e5d1f",
   "metadata": {},
   "outputs": [
    {
     "name": "stdout",
     "output_type": "stream",
     "text": [
      "p = 3.86\n",
      "q = 4.236\n",
      "u = 0.7686644274310563\n",
      "v = -1.6738990653786583\n",
      "root = -0.905234637947602\n",
      "xe = -1.5719013046142685\n",
      "ye = -11.354368557240196\n",
      "ze = -0.06188678399419576\n",
      "-16.84402896202973\n",
      "[[-1.6844029e+01  1.0000000e+00 -1.0000000e+00]\n",
      " [ 1.5719013e+01 -1.0000000e+00  0.0000000e+00]\n",
      " [ 3.1200000e-02  0.0000000e+00 -6.0000000e-03]]\n",
      "[-17.77909478+0.j          -0.03546709+0.02960777j\n",
      "  -0.03546709-0.02960777j]\n",
      "trace = -17.85002896202973\n",
      "det = -0.03795009549532226\n"
     ]
    }
   ],
   "source": [
    "import numpy as np\n",
    "import matplotlib.pyplot as plt\n",
    "\n",
    "a = 1.0\n",
    "b = 3.0\n",
    "c = 1.0\n",
    "d = 5.0\n",
    "r = 0.006\n",
    "s = 5.2\n",
    "x_rest = -1.56\n",
    "\n",
    "I=0\n",
    "p=3.86\n",
    "#q=4.090\n",
    "q=4.236\n",
    "\n",
    "print(\"p =\", p)\n",
    "print(\"q =\", q)\n",
    "\n",
    "# compute u and v\n",
    "u3=(-q/2)+np.sqrt((((q**2)/4))+((p**3)/27))\n",
    "v3=(-q/2)-np.sqrt((((q**2)/4))+((p**3)/27))\n",
    "\n",
    "u=np.cbrt(u3)\n",
    "v=np.cbrt(v3)\n",
    "print(\"u =\",u)\n",
    "print(\"v =\",v)\n",
    "root=u+v\n",
    "print(\"root =\",root)\n",
    "\n",
    "# Fixed point values\n",
    "x_e = root-2/3\n",
    "y_e = 1-(5*(x_e**2))\n",
    "z_e = 5.2*(x_e+1.56)\n",
    "\n",
    "print(\"xe =\",x_e)\n",
    "print(\"ye =\",y_e)\n",
    "print(\"ze =\",z_e)\n",
    "f=((-3*(x_e**2)) + 2*b*x_e)\n",
    "print(f)\n",
    "k=(-2*(d*x_e))\n",
    "\n",
    "# Function to compute Jacobian matrix\n",
    "J = np.array([  [f, 1., -1.], \n",
    "               [k, -1., 0.],\n",
    "               [0.0312, 0., -0.006]])\n",
    "print(J)\n",
    "  \n",
    "\n",
    "\n",
    "# Compute eigenvalues \n",
    "eigenvalues,eigenvectors = np.linalg.eig(J)\n",
    "print(eigenvalues)\n",
    "   \n",
    "trace=np.trace(J)\n",
    "print(\"trace =\", trace)\n",
    "det=np.linalg.det(J)\n",
    "print(\"det =\", det)\n",
    "\n"
   ]
  },
  {
   "cell_type": "code",
   "execution_count": null,
   "id": "c011926e",
   "metadata": {},
   "outputs": [],
   "source": []
  }
 ],
 "metadata": {
  "kernelspec": {
   "display_name": "Python 3 (ipykernel)",
   "language": "python",
   "name": "python3"
  },
  "language_info": {
   "codemirror_mode": {
    "name": "ipython",
    "version": 3
   },
   "file_extension": ".py",
   "mimetype": "text/x-python",
   "name": "python",
   "nbconvert_exporter": "python",
   "pygments_lexer": "ipython3",
   "version": "3.11.5"
  }
 },
 "nbformat": 4,
 "nbformat_minor": 5
}
