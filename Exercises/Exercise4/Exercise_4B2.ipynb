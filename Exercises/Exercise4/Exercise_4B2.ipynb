{
 "cells": [
  {
   "cell_type": "code",
   "execution_count": 1,
   "id": "1e2ebebc",
   "metadata": {},
   "outputs": [],
   "source": [
    "# Two fixed point"
   ]
  },
  {
   "cell_type": "code",
   "execution_count": null,
   "id": "526753ed",
   "metadata": {},
   "outputs": [],
   "source": [
    "import numpy as np\n",
    "import matplotlib.pyplot as plt\n",
    "\n",
    "# Morris-Lecar model parameters\n",
    "V1, V2, V3, V4 = -1.2, 18, 2, 30\n",
    "gK, VK, VL, gL = 8, -84, -60, 2\n",
    "C, phi = 20, 0.04\n",
    "\n",
    "# Function to calculate nullclines\n",
    "def nullclines(V, gCa, VCa, Iext):\n",
    "    v_nullcline = (Iext - gL*(V-VL) - gCa*0.5*(1+np.tanh((V-V1)/V2))*(V-VCa)) / (gK*(V-VK))\n",
    "    w_nullcline = 0.5 * (1 + np.tanh((V-V3)/V4))\n",
    "    return v_nullcline, w_nullcline\n",
    "\n",
    "# Function to find intersection points\n",
    "def find_intersections(V, v_null, w_null):\n",
    "    diff = v_null - w_null\n",
    "    sign_changes = np.where(np.diff(np.sign(diff)))[0]\n",
    "    intersections = []\n",
    "    for i in sign_changes:\n",
    "        v_intersect = V[i] + (V[i+1] - V[i]) * (0 - diff[i]) / (diff[i+1] - diff[i])\n",
    "        w_intersect = 0.5 * (1 + np.tanh((v_intersect-V3)/V4))\n",
    "        intersections.append((v_intersect, w_intersect))\n",
    "    return intersections\n",
    "\n",
    "# Create voltage array\n",
    "V = np.linspace(-80, 40, 10000)  # Increased resolution for better intersection detection\n",
    "\n",
    "# Scenario: Two Fixed Points\n",
    "gCa, VCa, Iext, title = 15.0, 120, 10.5, \"Two Fixed Points\"\n",
    "\n",
    "plt.figure(figsize=(7, 5))\n",
    "v_null, w_null = nullclines(V, gCa, VCa, Iext)\n",
    "plt.plot(V, v_null, label='V-nullcline')\n",
    "plt.plot(V, w_null, label='W-nullcline')\n",
    "\n",
    "intersections = find_intersections(V, v_null, w_null)\n",
    "for v, w in intersections:\n",
    "    plt.plot(v, w, 'ro')  # Plot intersection points\n",
    "\n",
    "plt.title(title)\n",
    "plt.xlabel('V (mV)')\n",
    "plt.ylabel('W')\n",
    "plt.legend()\n",
    "plt.ylim(-0.1, 1.1)\n",
    "\n",
    "# Print intersection points for this scenario\n",
    "print(f\"\\n{title}:\")\n",
    "for i, (v, w) in enumerate(intersections, 1):\n",
    "    print(f\"  Intersection {i}: V = {v:.2f} mV, W = {w:.2f}\")\n",
    "\n",
    "plt.grid(True)\n",
    "plt.show()\n"
   ]
  }
 ],
 "metadata": {
  "kernelspec": {
   "display_name": "Python 3 (ipykernel)",
   "language": "python",
   "name": "python3"
  },
  "language_info": {
   "codemirror_mode": {
    "name": "ipython",
    "version": 3
   },
   "file_extension": ".py",
   "mimetype": "text/x-python",
   "name": "python",
   "nbconvert_exporter": "python",
   "pygments_lexer": "ipython3",
   "version": "3.11.5"
  }
 },
 "nbformat": 4,
 "nbformat_minor": 5
}
